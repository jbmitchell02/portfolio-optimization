{
 "cells": [
  {
   "cell_type": "code",
   "execution_count": 37,
   "metadata": {},
   "outputs": [],
   "source": [
    "import numpy as np\n",
    "import pandas as pd\n",
    "import yfinance as yf\n",
    "from scipy import optimize\n",
    "import math"
   ]
  },
  {
   "cell_type": "code",
   "execution_count": 38,
   "metadata": {},
   "outputs": [],
   "source": [
    "tickers = [\n",
    "    'AAPL',\n",
    "    'MSFT',\n",
    "    'GOOG',\n",
    "    'AMZN',\n",
    "    'BRK-B',\n",
    "    'V',\n",
    "    'XOM',\n",
    "    'UNH',\n",
    "    'JNJ',\n",
    "    'NVDA',\n",
    "]\n",
    "\n",
    "period = '10y' # Options are 1d, 5d, 1mo, 3mo, 6mo, 1y, 2y, 5y, 10y, ytd, and max\n",
    "\n",
    "interval = '1d' # Options are 1m, 2m, 5m, 15m, 30m, 60m, 90m, 1h, 1d, 5d, 1wk, 1mo, and 3mo\n",
    "\n",
    "allow_short = False"
   ]
  },
  {
   "cell_type": "code",
   "execution_count": 39,
   "metadata": {},
   "outputs": [
    {
     "name": "stdout",
     "output_type": "stream",
     "text": [
      "[*********************100%***********************]  10 of 10 completed\n",
      "AAPL   Close    0.262292\n",
      "MSFT   Close    0.255640\n",
      "GOOG   Close    0.205286\n",
      "AMZN   Close    0.253801\n",
      "BRK-B  Close    0.134603\n",
      "dtype: float64\n"
     ]
    }
   ],
   "source": [
    "fields = []\n",
    "for i in range(len(tickers)):\n",
    "    fields.append((tickers[i], 'Close'))\n",
    "\n",
    "df = yf.download(\n",
    "    tickers = tickers,\n",
    "    period = period,\n",
    "    interval = interval,\n",
    "    group_by = 'ticker'\n",
    ")[fields]\n",
    "\n",
    "daily_returns = df.pct_change().dropna()\n",
    "\n",
    "yearly_returns = daily_returns.mean() * 252\n",
    "\n",
    "print(yearly_returns.head())"
   ]
  },
  {
   "cell_type": "code",
   "execution_count": 40,
   "metadata": {},
   "outputs": [
    {
     "name": "stdout",
     "output_type": "stream",
     "text": [
      "                 AAPL      MSFT      GOOG      AMZN     BRK-B         V  \\\n",
      "                Close     Close     Close     Close     Close     Close   \n",
      "AAPL  Close  0.082737  0.049483  0.045503  0.048892  0.028163  0.038719   \n",
      "MSFT  Close  0.049483  0.073711  0.051539  0.053102  0.028868  0.041652   \n",
      "GOOG  Close  0.045503  0.051539  0.073848  0.056406  0.027309  0.039791   \n",
      "AMZN  Close  0.048892  0.053102  0.056406  0.106959  0.024431  0.039487   \n",
      "BRK-B Close  0.028163  0.028868  0.027309  0.024431  0.037378  0.031008   \n",
      "\n",
      "                  XOM       UNH       JNJ      NVDA  \n",
      "                Close     Close     Close     Close  \n",
      "AAPL  Close  0.024785  0.030639  0.018401  0.069779  \n",
      "MSFT  Close  0.024383  0.032156  0.020296  0.071527  \n",
      "GOOG  Close  0.024978  0.029168  0.017981  0.066064  \n",
      "AMZN  Close  0.019817  0.025896  0.015814  0.073578  \n",
      "BRK-B Close  0.030754  0.026974  0.019114  0.035884  \n"
     ]
    }
   ],
   "source": [
    "covariance = daily_returns.cov() * 252\n",
    "\n",
    "print(covariance.head())"
   ]
  },
  {
   "cell_type": "code",
   "execution_count": 41,
   "metadata": {},
   "outputs": [],
   "source": [
    "def portfolio_var(w, cov):\n",
    "    w = np.matrix(w)\n",
    "    cov = np.matrix(cov)\n",
    "    result = w * cov * w.T\n",
    "    return result\n",
    "\n",
    "def portfolio_returns(w):\n",
    "    return np.sum(w * yearly_returns)\n",
    "\n",
    "cons = ({'type': 'eq', 'fun': lambda x: np.sum(x) - 1})\n",
    "\n",
    "bounds = [()]\n",
    "if allow_short:\n",
    "    bounds = tuple((-np.inf, np.inf) for i in tickers)\n",
    "else:\n",
    "    bounds = tuple((0, 1) for i in tickers)\n",
    "\n",
    "w0 = [1 / len(tickers)] * len(tickers)"
   ]
  },
  {
   "cell_type": "code",
   "execution_count": 42,
   "metadata": {},
   "outputs": [
    {
     "name": "stdout",
     "output_type": "stream",
     "text": [
      "Absolute Minimum Variance Portfolio\n",
      "AAPL = 2.153 %\n",
      "MSFT = 0.0 %\n",
      "GOOG = 2.769 %\n",
      "AMZN = 5.647 %\n",
      "BRK-B = 24.889 %\n",
      "V = 0.0 %\n",
      "XOM = 7.936 %\n",
      "UNH = 2.93 %\n",
      "JNJ = 53.676 %\n",
      "NVDA = 0.0 %\n",
      "Expected Annual Returns = 12.412 %\n"
     ]
    }
   ],
   "source": [
    "abs_min_variance = optimize.minimize(\n",
    "    fun = portfolio_var,\n",
    "    x0 = w0,\n",
    "    args = covariance,\n",
    "    method = 'SLSQP',\n",
    "    bounds = bounds,\n",
    "    constraints = cons\n",
    ")\n",
    "\n",
    "print('Absolute Minimum Variance Portfolio')\n",
    "for i in range(len(tickers)):\n",
    "    print(tickers[i], '=', round(abs_min_variance.x[i] * 100, 3), '%')\n",
    "print('Expected Annual Returns =', round(portfolio_returns(abs_min_variance.x) * 100, 3), '%')"
   ]
  },
  {
   "cell_type": "code",
   "execution_count": 43,
   "metadata": {},
   "outputs": [
    {
     "name": "stdout",
     "output_type": "stream",
     "text": [
      "Minimum Variance Portfolio for 15.0 % Annual Returns\n",
      "AAPL = 5.344 %\n",
      "MSFT = 0.0 %\n",
      "GOOG = 2.217 %\n",
      "AMZN = 7.161 %\n",
      "BRK-B = 22.481 %\n",
      "V = 1.139 %\n",
      "XOM = 3.255 %\n",
      "UNH = 10.358 %\n",
      "JNJ = 46.717 %\n",
      "NVDA = 1.329 %\n"
     ]
    }
   ],
   "source": [
    "expected_return = 0.15\n",
    "\n",
    "cons = (\n",
    "    {'type': 'eq', 'fun': lambda x: np.sum(x) - 1},\n",
    "    {'type': 'eq', 'fun': lambda x: portfolio_returns(x) - expected_return}\n",
    "    )\n",
    "\n",
    "min_variance = optimize.minimize(\n",
    "    fun = portfolio_var,\n",
    "    x0 = w0,\n",
    "    args = covariance,\n",
    "    method = 'SLSQP',\n",
    "    bounds = bounds,\n",
    "    constraints = cons\n",
    ")\n",
    "\n",
    "print('Minimum Variance Portfolio for', expected_return * 100, '% Annual Returns')\n",
    "for i in range(len(tickers)):\n",
    "    print(tickers[i], '=', round(min_variance.x[i] * 100, 3), '%')"
   ]
  },
  {
   "cell_type": "code",
   "execution_count": 44,
   "metadata": {},
   "outputs": [
    {
     "name": "stdout",
     "output_type": "stream",
     "text": [
      "Risk-Free Rate = 3.518 %\n"
     ]
    }
   ],
   "source": [
    "risk_free = 0 # Leave as 0 to use 10 Years Treasurey Yield\n",
    "\n",
    "if risk_free == 0:\n",
    "    risk_free = yf.Ticker('^TNX').history(period = '5d')['Close']\n",
    "    risk_free = risk_free.iloc[len(risk_free) - 1]\n",
    "    risk_free = risk_free / 100\n",
    "\n",
    "print('Risk-Free Rate =', round(risk_free * 100, 3), '%')"
   ]
  },
  {
   "cell_type": "code",
   "execution_count": 45,
   "metadata": {},
   "outputs": [
    {
     "name": "stdout",
     "output_type": "stream",
     "text": [
      "Maximum Sharpe Ratio Portfolio\n",
      "AAPL = 10.617 %\n",
      "MSFT = 2.802 %\n",
      "GOOG = 0.0 %\n",
      "AMZN = 4.567 %\n",
      "BRK-B = 0.0 %\n",
      "V = 0.259 %\n",
      "XOM = 0.0 %\n",
      "UNH = 46.188 %\n",
      "JNJ = 0.0 %\n",
      "NVDA = 35.566 %\n",
      "Expected Annual Returns = 34.547 %\n",
      "Sharpe Ratio = 1.327\n"
     ]
    }
   ],
   "source": [
    "def portfolio_sharpe(w, cov):\n",
    "    a = portfolio_returns(w) - 0\n",
    "    b = math.sqrt(portfolio_var(w, cov))\n",
    "    return -a / b\n",
    "\n",
    "cons = ({'type': 'eq', 'fun': lambda x: np.sum(x) - 1})\n",
    "\n",
    "sharpe_ratio = optimize.minimize(\n",
    "    fun = portfolio_sharpe,\n",
    "    x0 = w0,\n",
    "    args = covariance,\n",
    "    method = 'SLSQP',\n",
    "    bounds = bounds,\n",
    "    constraints = cons\n",
    ")\n",
    "\n",
    "print('Maximum Sharpe Ratio Portfolio')\n",
    "for i in range(len(tickers)):\n",
    "    print(tickers[i], '=', round(sharpe_ratio.x[i] * 100, 3), '%')\n",
    "print('Expected Annual Returns =', round(portfolio_returns(sharpe_ratio.x) * 100, 3), '%')\n",
    "print('Sharpe Ratio =', round(-portfolio_sharpe(sharpe_ratio.x, covariance), 3))"
   ]
  },
  {
   "cell_type": "code",
   "execution_count": null,
   "metadata": {},
   "outputs": [],
   "source": []
  }
 ],
 "metadata": {
  "kernelspec": {
   "display_name": "Python 3",
   "language": "python",
   "name": "python3"
  },
  "language_info": {
   "codemirror_mode": {
    "name": "ipython",
    "version": 3
   },
   "file_extension": ".py",
   "mimetype": "text/x-python",
   "name": "python",
   "nbconvert_exporter": "python",
   "pygments_lexer": "ipython3",
   "version": "3.10.9"
  },
  "orig_nbformat": 4,
  "vscode": {
   "interpreter": {
    "hash": "b0fa6594d8f4cbf19f97940f81e996739fb7646882a419484c72d19e05852a7e"
   }
  }
 },
 "nbformat": 4,
 "nbformat_minor": 2
}
