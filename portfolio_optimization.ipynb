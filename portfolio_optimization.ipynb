{
 "cells": [
  {
   "cell_type": "code",
   "execution_count": 600,
   "metadata": {},
   "outputs": [],
   "source": [
    "import math\n",
    "import numpy as np\n",
    "import pandas as pd\n",
    "import yfinance as yf\n",
    "from scipy import optimize"
   ]
  },
  {
   "cell_type": "code",
   "execution_count": 601,
   "metadata": {},
   "outputs": [],
   "source": [
    "market = '^GSPC'\n",
    "\n",
    "tickers = [\n",
    "    'AAPL',\n",
    "    'MSFT',\n",
    "    'GOOG',\n",
    "    'AMZN',\n",
    "    'BRK-B',\n",
    "    'V',\n",
    "    'XOM',\n",
    "    'UNH',\n",
    "    'JNJ',\n",
    "    'NVDA',\n",
    "    market\n",
    "]\n",
    "\n",
    "period = '5y'      # Options are 1d, 5d, 1mo, 3mo, 6mo, 1y, 2y, 5y, 10y, ytd, and max\n",
    "\n",
    "interval = '1d'    # Options are 1m, 2m, 5m, 15m, 30m, 60m, 90m, 1h, 1d, 5d, 1wk, 1mo, and 3mo\n",
    "\n",
    "allow_short = False\n",
    "\n",
    "r_f = 0.01         # Risk-free rate"
   ]
  },
  {
   "cell_type": "code",
   "execution_count": 602,
   "metadata": {},
   "outputs": [
    {
     "name": "stdout",
     "output_type": "stream",
     "text": [
      "[*********************100%***********************]  11 of 11 completed\n"
     ]
    }
   ],
   "source": [
    "fields = []\n",
    "for i in range(len(tickers)):\n",
    "    fields.append((tickers[i], 'Close'))\n",
    "\n",
    "df = yf.download(\n",
    "    tickers = tickers,\n",
    "    period = period,\n",
    "    interval = interval,\n",
    "    group_by = 'ticker'\n",
    ")[fields]"
   ]
  },
  {
   "cell_type": "code",
   "execution_count": 603,
   "metadata": {},
   "outputs": [],
   "source": [
    "norm_returns = df.pct_change().dropna()\n",
    "log_returns = np.log(1 + df.pct_change().dropna())\n",
    "\n",
    "norm_cov = norm_returns.cov() * 252\n",
    "log_cov = log_returns.cov() * 252"
   ]
  },
  {
   "cell_type": "code",
   "execution_count": 604,
   "metadata": {},
   "outputs": [],
   "source": [
    "norm_returns = norm_returns.mean() * 252\n",
    "log_returns = log_returns.mean() * 252"
   ]
  },
  {
   "cell_type": "code",
   "execution_count": 605,
   "metadata": {},
   "outputs": [],
   "source": [
    "def find_beta(cov, stock, market):\n",
    "    a = cov[(stock, 'Close')][(market, 'Close')]\n",
    "    b = cov[(market, 'Close')][(market, 'Close')]\n",
    "    return (a / b)\n",
    "\n",
    "betas = pd.DataFrame(columns = ['Beta'])\n",
    "for i in tickers:\n",
    "    betas.loc[i] = find_beta(norm_cov, i, market)"
   ]
  },
  {
   "cell_type": "code",
   "execution_count": 606,
   "metadata": {},
   "outputs": [],
   "source": [
    "capm_returns = pd.DataFrame()\n",
    "capm_returns['Returns'] = norm_returns - r_f\n",
    "for i in range(len(tickers)):\n",
    "    capm_returns.iloc[i]['Returns'] = capm_returns.iloc[i]['Returns'] * betas.iloc[i] + r_f"
   ]
  },
  {
   "cell_type": "code",
   "execution_count": 607,
   "metadata": {},
   "outputs": [],
   "source": [
    "def portfolio_var(w, cov):\n",
    "    w = np.matrix(w)\n",
    "    cov = np.matrix(cov)\n",
    "    result = w * cov * w.T\n",
    "    return result\n",
    "\n",
    "def portfolio_returns(w, yearly_returns):\n",
    "    w = np.matrix(w)\n",
    "    yearly_returns = np.matrix(yearly_returns)\n",
    "    return np.sum(w * yearly_returns.T)\n",
    "\n",
    "def portfolio_sharpe(w, cov, r_f):\n",
    "    a = portfolio_returns(w, cov) - r_f\n",
    "    b = math.sqrt(portfolio_var(w, cov))\n",
    "    return -a / b"
   ]
  },
  {
   "cell_type": "code",
   "execution_count": 608,
   "metadata": {},
   "outputs": [],
   "source": [
    "w_cons = {'type': 'eq', 'fun': lambda x: np.sum(x) - 1}\n",
    "\n",
    "bounds = [()]\n",
    "if allow_short:\n",
    "    bounds = tuple((-np.inf, np.inf) for i in tickers)\n",
    "else:\n",
    "    bounds = tuple((0, 1) for i in tickers)\n",
    "\n",
    "w0 = [1 / len(tickers)] * len(tickers)"
   ]
  },
  {
   "cell_type": "code",
   "execution_count": 609,
   "metadata": {},
   "outputs": [],
   "source": [
    "dist = 'log'     # 'norm' or 'log'\n",
    "\n",
    "cov_choice = norm_cov\n",
    "returns_choice = norm_returns\n",
    "if dist == 'log':\n",
    "    cov_choice = log_cov\n",
    "    returns_choice = log_returns"
   ]
  },
  {
   "cell_type": "code",
   "execution_count": 610,
   "metadata": {},
   "outputs": [
    {
     "name": "stdout",
     "output_type": "stream",
     "text": [
      "Absolute Minimum Variance Portfolio\n",
      "AAPL = 0.0 %\n",
      "MSFT = 0.0 %\n",
      "GOOG = 0.0 %\n",
      "AMZN = 6.461 %\n",
      "BRK-B = 18.303 %\n",
      "V = 0.0 %\n",
      "XOM = 4.438 %\n",
      "UNH = 0.0 %\n",
      "JNJ = 55.286 %\n",
      "NVDA = 0.0 %\n",
      "^GSPC = 15.512 %\n",
      "Expected Annual Returns = 5.466 %\n",
      "CAPM Expected Annual Returns = 6.877 %\n",
      "Sharpe Ratio = 2.192\n"
     ]
    }
   ],
   "source": [
    "abs_min_var = optimize.minimize(\n",
    "    fun = portfolio_var,\n",
    "    x0 = w0,\n",
    "    args = cov_choice,\n",
    "    method = 'SLSQP',\n",
    "    bounds = bounds,\n",
    "    constraints = w_cons\n",
    ")\n",
    "\n",
    "print('Absolute Minimum Variance Portfolio')\n",
    "for i in range(len(tickers)):\n",
    "    print(tickers[i], '=', round(abs_min_var.x[i] * 100, 3), '%')\n",
    "print('Expected Annual Returns =', round(portfolio_returns(abs_min_var.x, returns_choice) * 100, 3), '%')\n",
    "print('CAPM Expected Annual Returns =', round(portfolio_returns(abs_min_var.x, capm_returns['Returns']) * 100, 3), '%')\n",
    "print('Sharpe Ratio =', round(-portfolio_sharpe(abs_min_var.x, cov_choice, r_f), 3))"
   ]
  },
  {
   "cell_type": "code",
   "execution_count": 611,
   "metadata": {},
   "outputs": [
    {
     "name": "stdout",
     "output_type": "stream",
     "text": [
      "Minimum Variance Portfolio with Beta/Returns Constraint\n",
      "AAPL = 22.115 %\n",
      "MSFT = 7.316 %\n",
      "GOOG = 0.0 %\n",
      "AMZN = 0.0 %\n",
      "BRK-B = 16.756 %\n",
      "V = 0.0 %\n",
      "XOM = 3.352 %\n",
      "UNH = 12.388 %\n",
      "JNJ = 38.073 %\n",
      "NVDA = 0.0 %\n",
      "^GSPC = 0.0 %\n",
      "Expected Annual Returns = 12.0 %\n",
      "CAPM Expected Annual Returns = 16.293 %\n",
      "Sharpe Ratio = 2.4\n"
     ]
    }
   ],
   "source": [
    "cons_choice = 'returns'     # 'returns' or 'beta' (can only constrain one at a time)\n",
    "\n",
    "returns_target = 0.12\n",
    "beta_target = 1.2\n",
    "\n",
    "return_cons = {'type': 'eq', 'fun': lambda x: portfolio_returns(x, returns_choice) - returns_target}\n",
    "beta_cons = {'type': 'eq', 'fun': lambda x: portfolio_returns(x, betas['Beta']) - beta_target}\n",
    "\n",
    "min_var = optimize.minimize(\n",
    "    fun = portfolio_var,\n",
    "    x0 = w0,\n",
    "    args = cov_choice,\n",
    "    method = 'SLSQP',\n",
    "    bounds = bounds,\n",
    "    constraints = (w_cons, return_cons) if cons_choice == 'returns' else (w_cons, beta_cons)\n",
    ")\n",
    "\n",
    "print('Minimum Variance Portfolio with Beta/Returns Constraint')\n",
    "for i in range(len(tickers)):\n",
    "    print(tickers[i], '=', round(min_var.x[i] * 100, 3), '%')\n",
    "print('Expected Annual Returns =', round(portfolio_returns(min_var.x, returns_choice) * 100, 3), '%')\n",
    "print('CAPM Expected Annual Returns =', round(portfolio_returns(min_var.x, capm_returns['Returns']) * 100, 3), '%')\n",
    "print('Sharpe Ratio =', round(-portfolio_sharpe(min_var.x, cov_choice, r_f), 3))"
   ]
  },
  {
   "cell_type": "code",
   "execution_count": 612,
   "metadata": {},
   "outputs": [
    {
     "name": "stdout",
     "output_type": "stream",
     "text": [
      "Maximum Sharpe Ratio Portfolio\n",
      "AAPL = 9.612 %\n",
      "MSFT = 9.935 %\n",
      "GOOG = 9.288 %\n",
      "AMZN = 9.053 %\n",
      "BRK-B = 9.231 %\n",
      "V = 9.576 %\n",
      "XOM = 9.432 %\n",
      "UNH = 9.509 %\n",
      "JNJ = 8.091 %\n",
      "NVDA = 9.729 %\n",
      "^GSPC = 6.544 %\n",
      "Expected Annual Returns = 13.632 %\n",
      "CAPM Expected Annual Returns = 22.891 %\n",
      "Sharpe Ratio = 2.632\n"
     ]
    }
   ],
   "source": [
    "sharpe_ratio = optimize.minimize(\n",
    "    fun = portfolio_sharpe,\n",
    "    x0 = w0,\n",
    "    args = (cov_choice, r_f),\n",
    "    method = 'SLSQP',\n",
    "    bounds = bounds,\n",
    "    constraints = w_cons\n",
    ")\n",
    "\n",
    "print('Maximum Sharpe Ratio Portfolio')\n",
    "for i in range(len(tickers)):\n",
    "    print(tickers[i], '=', round(sharpe_ratio.x[i] * 100, 3), '%')\n",
    "print('Expected Annual Returns =', round(portfolio_returns(sharpe_ratio.x, returns_choice) * 100, 3), '%')\n",
    "print('CAPM Expected Annual Returns =', round(portfolio_returns(sharpe_ratio.x, capm_returns['Returns']) * 100, 3), '%')\n",
    "print('Sharpe Ratio =', round(-portfolio_sharpe(sharpe_ratio.x, cov_choice, r_f), 3))"
   ]
  }
 ],
 "metadata": {
  "kernelspec": {
   "display_name": "Python 3",
   "language": "python",
   "name": "python3"
  },
  "language_info": {
   "codemirror_mode": {
    "name": "ipython",
    "version": 3
   },
   "file_extension": ".py",
   "mimetype": "text/x-python",
   "name": "python",
   "nbconvert_exporter": "python",
   "pygments_lexer": "ipython3",
   "version": "3.10.9"
  },
  "orig_nbformat": 4,
  "vscode": {
   "interpreter": {
    "hash": "b0fa6594d8f4cbf19f97940f81e996739fb7646882a419484c72d19e05852a7e"
   }
  }
 },
 "nbformat": 4,
 "nbformat_minor": 2
}
