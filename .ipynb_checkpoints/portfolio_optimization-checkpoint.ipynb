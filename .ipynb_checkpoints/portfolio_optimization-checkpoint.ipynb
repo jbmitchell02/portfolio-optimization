{
 "cells": [
  {
   "cell_type": "markdown",
   "metadata": {},
   "source": [
    "### Portfolio Optimization\n",
    "\n",
    "As an introduction to Modern Portfolio Theory, I would like to do some research on a couple methods for optimizing portfolios: absolute minimum-variance, minimum-variance constrained by $\\beta_{portfolio}$ or $R_{portfolio}$, and maximum Sharpe Ratio. A couple of basic assumptions that I'm making to do so are:\n",
    "\n",
    "* The stocks that the portfolio consists of are known.\n",
    "* The distribution that best fits the returns of those stocks is known (normal or log-normal).\n",
    "* The current risk-free rate is known.\n",
    "\n",
    "Packages that I will use to do so, and how I will be using them, is as follows:\n",
    "\n",
    "* Math: square root function\n",
    "* NumPy: array operations and matrix math\n",
    "* pandas: dataframes\n",
    "* yfinance: financial data\n",
    "* SciPy: optimization solver"
   ]
  },
  {
   "cell_type": "code",
   "execution_count": 1,
   "metadata": {},
   "outputs": [],
   "source": [
    "import math\n",
    "import numpy as np\n",
    "import pandas as pd\n",
    "import yfinance as yf\n",
    "from scipy import optimize"
   ]
  },
  {
   "cell_type": "markdown",
   "metadata": {},
   "source": [
    "### Parameters\n",
    "\n",
    "The parameters that I will need to create the models are as follows:\n",
    "\n",
    "* market: Ticker symbol for market index to be used to estimate market returns and variance.\n",
    "    * I will be using the S&P 500.\n",
    "* tickers: Ticker symbols for the stocks that the porfolio consists of.\n",
    "    * I will be using the 10 largest US stocks by market capitalization.\n",
    "* period: The amount of historical data to use to make returns and variance calculations.\n",
    "    * I will be using the data collected over the past 5 years.\n",
    "* interval: The amount of time between the data points.\n",
    "    * I will be using daily data.\n",
    "* dist: The type of distribution to be used to model the stocks' returns and variances.\n",
    "    * I will be using log-normal.\n",
    "* allow_short: Whether or not shorting the stocks in the portfolio is allowed (if it is, there is assumed to be no cost associated with doing so).\n",
    "    * I will not be allowing short-selling.\n",
    "* r_f: The current risk-free rate.\n",
    "    * I will assume a 2% risk-free rate."
   ]
  },
  {
   "cell_type": "code",
   "execution_count": 2,
   "metadata": {},
   "outputs": [],
   "source": [
    "market = '^GSPC'\n",
    "\n",
    "tickers = [\n",
    "    'AAPL',\n",
    "    'MSFT',\n",
    "    'GOOG',\n",
    "    'AMZN',\n",
    "    'BRK-B',\n",
    "    'V',\n",
    "    'XOM',\n",
    "    'UNH',\n",
    "    'JNJ',\n",
    "    'NVDA',\n",
    "    market\n",
    "]\n",
    "\n",
    "period = '5y'      # Options are 1d, 5d, 1mo, 3mo, 6mo, 1y, 2y, 5y, 10y, ytd, and max\n",
    "\n",
    "interval = '1d'    # Options are 1m, 2m, 5m, 15m, 30m, 60m, 90m, 1h, 1d, 5d, 1wk, 1mo, and 3mo\n",
    "\n",
    "dist = 'log'       # Options are 'norm' or 'log'\n",
    "\n",
    "allow_short = False\n",
    "\n",
    "r_f = 0.02         # Risk-free rate"
   ]
  },
  {
   "cell_type": "markdown",
   "metadata": {},
   "source": [
    "Now, to download the necessary data according to the market, tickers, period, and interval given above. To keep the dataframe reasonably sized, I will only be keeping the closing prices (as it's what I'll use to make return and calculations)."
   ]
  },
  {
   "cell_type": "code",
   "execution_count": 3,
   "metadata": {},
   "outputs": [
    {
     "name": "stdout",
     "output_type": "stream",
     "text": [
      "[*********************100%***********************]  11 of 11 completed\n"
     ]
    }
   ],
   "source": [
    "fields = []\n",
    "for i in range(len(tickers)):\n",
    "    fields.append((tickers[i], 'Close'))\n",
    "\n",
    "df = yf.download(\n",
    "    tickers = tickers,\n",
    "    period = period,\n",
    "    interval = interval,\n",
    "    group_by = 'ticker'\n",
    ")[fields]"
   ]
  },
  {
   "cell_type": "markdown",
   "metadata": {},
   "source": [
    "### Returns and Covariance Matrix ($\\Sigma$)\n",
    "\n",
    "The downloaded stock data is only the closing prices of the given ticker symbols, so I need to normalize it by calculating returns as follows:\n",
    "\n",
    "$$R_{n} = \\frac{S_{n}}{S_{n-1}}$$\n",
    "\n",
    "where $R$ indicates returns and $S$ indicates stock price. Once that's done, $\\Sigma$ can be calculated:\n",
    "\n",
    "$$\\Sigma_{ij} = \\frac{1}{N-1} \\sum_{k = 1}^N (\\overline{R}_i - R_{ik})(\\overline{R}_j - R_{jk})$$\n",
    "\n",
    "Then, I'll annualize those values by multiplying them by 252, the average number of trading days per year."
   ]
  },
  {
   "cell_type": "code",
   "execution_count": 4,
   "metadata": {},
   "outputs": [],
   "source": [
    "returns = []\n",
    "if dist == 'norm':\n",
    "    returns = df.pct_change().dropna()\n",
    "elif dist == 'log':\n",
    "    returns = np.log(1 + df.pct_change().dropna())\n",
    "\n",
    "cov = returns.cov() * 252\n",
    "returns = returns.mean() * 252"
   ]
  },
  {
   "cell_type": "markdown",
   "metadata": {},
   "source": [
    "### Calculating $\\beta$\n",
    "\n",
    "In the Capital Asset Pricing Model, $\\beta$ is used to measure systematic risk and is involved in calculating the capital asset expected return. It's an important part of Modern Portfolio Theory, and it's formula is:\n",
    "\n",
    "$$\\beta_i = \\frac{Cov(i, market)}{Var(market)}$$\n",
    "\n",
    "It'll be useful in the optimization models, so I'll calculate and display it for the selected stocks."
   ]
  },
  {
   "cell_type": "code",
   "execution_count": 12,
   "metadata": {},
   "outputs": [
    {
     "name": "stdout",
     "output_type": "stream",
     "text": [
      "           Beta\n",
      "AAPL   1.227962\n",
      "MSFT   1.215598\n",
      "GOOG   1.139984\n",
      "AMZN   1.116988\n",
      "BRK-B  0.863297\n",
      "V      1.085598\n",
      "XOM    0.900852\n",
      "UNH    0.906365\n",
      "JNJ    0.554642\n",
      "NVDA   1.737272\n",
      "^GSPC  1.000000\n"
     ]
    }
   ],
   "source": [
    "def find_beta(cov, stock, market):\n",
    "    a = cov[(stock, 'Close')][(market, 'Close')]\n",
    "    b = cov[(market, 'Close')][(market, 'Close')]\n",
    "    return (a / b)\n",
    "\n",
    "betas = pd.DataFrame(columns = ['Beta'])\n",
    "for i in tickers:\n",
    "    betas.loc[i] = find_beta(cov, i, market)\n",
    "\n",
    "print(betas)"
   ]
  },
  {
   "cell_type": "markdown",
   "metadata": {},
   "source": [
    "### CAPM\n",
    "\n",
    "As mentioned previously, $\\beta$ can be used to calculate the capital asset expected return. "
   ]
  },
  {
   "cell_type": "code",
   "execution_count": 6,
   "metadata": {},
   "outputs": [],
   "source": [
    "capm_returns = pd.DataFrame()\n",
    "capm_returns['Returns'] = returns - r_f\n",
    "for i in range(len(tickers)):\n",
    "    capm_returns.iloc[i]['Returns'] = capm_returns.iloc[i]['Returns'] * betas.iloc[i] + r_f"
   ]
  },
  {
   "cell_type": "code",
   "execution_count": 7,
   "metadata": {},
   "outputs": [],
   "source": [
    "def portfolio_var(w, cov):\n",
    "    w = np.matrix(w)\n",
    "    cov = np.matrix(cov)\n",
    "    result = w * cov * w.T\n",
    "    return result\n",
    "\n",
    "def portfolio_returns(w, yearly_returns):\n",
    "    w = np.matrix(w)\n",
    "    yearly_returns = np.matrix(yearly_returns)\n",
    "    return np.sum(w * yearly_returns.T)\n",
    "\n",
    "def portfolio_sharpe(w, cov, r_f):\n",
    "    a = portfolio_returns(w, cov) - r_f\n",
    "    b = math.sqrt(portfolio_var(w, cov))\n",
    "    return -a / b"
   ]
  },
  {
   "cell_type": "code",
   "execution_count": 8,
   "metadata": {},
   "outputs": [],
   "source": [
    "w_cons = {'type': 'eq', 'fun': lambda x: np.sum(x) - 1}\n",
    "\n",
    "bounds = [()]\n",
    "if allow_short:\n",
    "    bounds = tuple((-np.inf, np.inf) for i in tickers)\n",
    "else:\n",
    "    bounds = tuple((0, 1) for i in tickers)\n",
    "\n",
    "w0 = [1 / len(tickers)] * len(tickers)"
   ]
  },
  {
   "cell_type": "code",
   "execution_count": 9,
   "metadata": {},
   "outputs": [
    {
     "name": "stdout",
     "output_type": "stream",
     "text": [
      "Absolute Minimum Variance Portfolio\n",
      "AAPL = 0.0 %\n",
      "MSFT = 0.0 %\n",
      "GOOG = 0.0 %\n",
      "AMZN = 5.523 %\n",
      "BRK-B = 21.088 %\n",
      "V = 0.0 %\n",
      "XOM = 4.246 %\n",
      "UNH = 0.0 %\n",
      "JNJ = 54.579 %\n",
      "NVDA = 0.0 %\n",
      "^GSPC = 14.563 %\n",
      "Expected Annual Returns = 6.475 %\n",
      "CAPM Expected Annual Returns = 5.643 %\n",
      "Sharpe Ratio = 2.116\n"
     ]
    }
   ],
   "source": [
    "abs_min_var = optimize.minimize(\n",
    "    fun = portfolio_var,\n",
    "    x0 = w0,\n",
    "    args = cov,\n",
    "    method = 'SLSQP',\n",
    "    bounds = bounds,\n",
    "    constraints = w_cons\n",
    ")\n",
    "\n",
    "print('Absolute Minimum Variance Portfolio')\n",
    "for i in range(len(tickers)):\n",
    "    print(tickers[i], '=', round(abs_min_var.x[i] * 100, 3), '%')\n",
    "print('Expected Annual Returns =', round(portfolio_returns(abs_min_var.x, returns) * 100, 3), '%')\n",
    "print('CAPM Expected Annual Returns =', round(portfolio_returns(abs_min_var.x, capm_returns['Returns']) * 100, 3), '%')\n",
    "print('Sharpe Ratio =', round(-portfolio_sharpe(abs_min_var.x, cov, r_f), 3))"
   ]
  },
  {
   "cell_type": "code",
   "execution_count": 10,
   "metadata": {},
   "outputs": [
    {
     "name": "stdout",
     "output_type": "stream",
     "text": [
      "Minimum Variance Portfolio with Beta/Returns Constraint\n",
      "AAPL = 19.873 %\n",
      "MSFT = 5.715 %\n",
      "GOOG = 0.0 %\n",
      "AMZN = 0.0 %\n",
      "BRK-B = 19.489 %\n",
      "V = 0.0 %\n",
      "XOM = 3.55 %\n",
      "UNH = 8.517 %\n",
      "JNJ = 42.857 %\n",
      "NVDA = 0.0 %\n",
      "^GSPC = 0.0 %\n",
      "Expected Annual Returns = 12.0 %\n",
      "CAPM Expected Annual Returns = 12.578 %\n",
      "Sharpe Ratio = 2.296\n"
     ]
    }
   ],
   "source": [
    "cons_choice = 'returns'     # 'returns' or 'beta' (can only constrain one at a time)\n",
    "target = 0.12\n",
    "\n",
    "return_cons = {'type': 'eq', 'fun': lambda x: portfolio_returns(x, returns) - target}\n",
    "beta_cons = {'type': 'eq', 'fun': lambda x: portfolio_returns(x, betas['Beta']) - target}\n",
    "\n",
    "min_var = optimize.minimize(\n",
    "    fun = portfolio_var,\n",
    "    x0 = w0,\n",
    "    args = cov,\n",
    "    method = 'SLSQP',\n",
    "    bounds = bounds,\n",
    "    constraints = (w_cons, return_cons) if cons_choice == 'returns' else (w_cons, beta_cons)\n",
    ")\n",
    "\n",
    "print('Minimum Variance Portfolio with Beta/Returns Constraint')\n",
    "for i in range(len(tickers)):\n",
    "    print(tickers[i], '=', round(min_var.x[i] * 100, 3), '%')\n",
    "print('Expected Annual Returns =', round(portfolio_returns(min_var.x, returns) * 100, 3), '%')\n",
    "print('CAPM Expected Annual Returns =', round(portfolio_returns(min_var.x, capm_returns['Returns']) * 100, 3), '%')\n",
    "print('Sharpe Ratio =', round(-portfolio_sharpe(min_var.x, cov, r_f), 3))"
   ]
  },
  {
   "cell_type": "code",
   "execution_count": 11,
   "metadata": {},
   "outputs": [
    {
     "name": "stdout",
     "output_type": "stream",
     "text": [
      "Maximum Sharpe Ratio Portfolio\n",
      "AAPL = 10.213 %\n",
      "MSFT = 10.766 %\n",
      "GOOG = 9.547 %\n",
      "AMZN = 9.056 %\n",
      "BRK-B = 9.356 %\n",
      "V = 10.122 %\n",
      "XOM = 9.78 %\n",
      "UNH = 9.909 %\n",
      "JNJ = 6.98 %\n",
      "NVDA = 10.376 %\n",
      "^GSPC = 3.894 %\n",
      "Expected Annual Returns = 15.108 %\n",
      "CAPM Expected Annual Returns = 18.088 %\n",
      "Sharpe Ratio = 2.582\n"
     ]
    }
   ],
   "source": [
    "sharpe_ratio = optimize.minimize(\n",
    "    fun = portfolio_sharpe,\n",
    "    x0 = w0,\n",
    "    args = (cov, r_f),\n",
    "    method = 'SLSQP',\n",
    "    bounds = bounds,\n",
    "    constraints = w_cons\n",
    ")\n",
    "\n",
    "print('Maximum Sharpe Ratio Portfolio')\n",
    "for i in range(len(tickers)):\n",
    "    print(tickers[i], '=', round(sharpe_ratio.x[i] * 100, 3), '%')\n",
    "print('Expected Annual Returns =', round(portfolio_returns(sharpe_ratio.x, returns) * 100, 3), '%')\n",
    "print('CAPM Expected Annual Returns =', round(portfolio_returns(sharpe_ratio.x, capm_returns['Returns']) * 100, 3), '%')\n",
    "print('Sharpe Ratio =', round(-portfolio_sharpe(sharpe_ratio.x, cov, r_f), 3))"
   ]
  }
 ],
 "metadata": {
  "kernelspec": {
   "display_name": "Python 3 (ipykernel)",
   "language": "python",
   "name": "python3"
  },
  "language_info": {
   "codemirror_mode": {
    "name": "ipython",
    "version": 3
   },
   "file_extension": ".py",
   "mimetype": "text/x-python",
   "name": "python",
   "nbconvert_exporter": "python",
   "pygments_lexer": "ipython3",
   "version": "3.10.9"
  },
  "vscode": {
   "interpreter": {
    "hash": "b0fa6594d8f4cbf19f97940f81e996739fb7646882a419484c72d19e05852a7e"
   }
  }
 },
 "nbformat": 4,
 "nbformat_minor": 2
}
