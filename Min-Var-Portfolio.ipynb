{
 "cells": [
  {
   "attachments": {},
   "cell_type": "markdown",
   "metadata": {},
   "source": [
    "## Constructing a Minimum-Variance Portfolio\n",
    "\n",
    "First, we need to import all of the libraries that we'll be using:\n",
    "\n",
    "* NumPy for linear algebra\n",
    "* pandas for dataframes and variance/covariance calculations\n",
    "* yfinance for financial data\n",
    "* scipy.optimize for solving for the optimal stock weights"
   ]
  },
  {
   "cell_type": "code",
   "execution_count": 75,
   "metadata": {},
   "outputs": [],
   "source": [
    "# Imports\n",
    "import numpy as np\n",
    "import pandas as pd\n",
    "import yfinance as yf\n",
    "from scipy import optimize"
   ]
  },
  {
   "attachments": {},
   "cell_type": "markdown",
   "metadata": {},
   "source": [
    "### Collecting and Preparing the Data\n",
    "\n",
    "In this example, we'll use the top 10 largest US stocks by market capitalization to build our portfolio. This can easily be changed by adding/removing entries from the tickers list. The other parameters that can be changed and tuned are:\n",
    "\n",
    "* period: how far back we will go when calculating returns, variances, and covariances.\n",
    "* interval: the frequency that returns will be calculated over (i.e. daily returns, monthly returns, etc.).\n",
    "* allow_short: whether or not short selling is allowed, we'll assume that it is free when allowed.\n",
    "\n",
    "The following code will download a dataframe with the closing price for each of the selected stocks with the given parameters. Then, it will print out the first five rows to verify that the correct data has been downloaded."
   ]
  },
  {
   "cell_type": "code",
   "execution_count": 76,
   "metadata": {},
   "outputs": [
    {
     "name": "stdout",
     "output_type": "stream",
     "text": [
      "[*********************100%***********************]  10 of 10 completed\n",
      "                 AAPL       MSFT       GOOG       AMZN       BRK-B  \\\n",
      "                Close      Close      Close      Close       Close   \n",
      "Date                                                                 \n",
      "2018-01-29  41.990002  93.919998  58.778999  70.884003  215.460007   \n",
      "2018-01-30  41.742500  92.739998  58.184502  71.890999  214.410004   \n",
      "2018-01-31  41.857498  95.010002  58.497002  72.544502  214.380005   \n",
      "2018-02-01  41.945000  94.260002  58.384998  69.500000  217.250000   \n",
      "2018-02-02  40.125000  91.779999  55.595001  71.497498  209.119995   \n",
      "\n",
      "                     V        XOM         UNH         JNJ       NVDA  \n",
      "                 Close      Close       Close       Close      Close  \n",
      "Date                                                                  \n",
      "2018-01-29  124.839996  88.010002  247.410004  143.679993  61.712502  \n",
      "2018-01-30  123.550003  86.779999  236.649994  142.429993  60.680000  \n",
      "2018-01-31  124.230003  87.300003  236.779999  138.190002  61.450001  \n",
      "2018-02-01  125.720001  89.070000  235.220001  140.020004  60.125000  \n",
      "2018-02-02  120.910004  84.529999  231.880005  137.679993  58.380001  \n"
     ]
    }
   ],
   "source": [
    "### USER PARAMETERS ###\n",
    "\n",
    "tickers = [\n",
    "    'AAPL',\n",
    "    'MSFT',\n",
    "    'GOOG',\n",
    "    'AMZN',\n",
    "    'BRK-B',\n",
    "    'V',\n",
    "    'XOM',\n",
    "    'UNH',\n",
    "    'JNJ',\n",
    "    'NVDA',\n",
    "]\n",
    "\n",
    "period = '5y' # Options are 1d, 5d, 1mo, 3mo, 6mo, 1y, 2y, 5y, 10y, ytd, and max\n",
    "\n",
    "interval = '1d' # Options are 1m, 2m, 5m, 15m, 30m, 60m, 90m, 1h, 1d, 5d, 1wk, 1mo, and 3mo\n",
    "\n",
    "allow_short = True\n",
    "\n",
    "expected_return = 15 # As a percentage (for example, enter '10' for 10%)\n",
    "\n",
    "#######################\n",
    "\n",
    "# Create a list of tuples for each given stock with the format ('AAPL', 'Close') so that we can request only the closing prices\n",
    "fields = []\n",
    "for i in range(len(tickers)):\n",
    "    fields.append((tickers[i], 'Close'))\n",
    "\n",
    "# Download the data with the user parameters\n",
    "df = yf.download(\n",
    "    tickers = tickers,\n",
    "    period = period,\n",
    "    interval = interval,\n",
    "    group_by = 'ticker'\n",
    ")[fields]\n",
    "\n",
    "# Print the first five rows\n",
    "print(df.head())"
   ]
  },
  {
   "attachments": {},
   "cell_type": "markdown",
   "metadata": {},
   "source": [
    "Since we're interested in the stocks' returns, not their closing prices, we will create a new dataframe that instead has the percent change for each row (the last row will be dropped since we can't calculate its percent change)."
   ]
  },
  {
   "cell_type": "code",
   "execution_count": 77,
   "metadata": {},
   "outputs": [
    {
     "name": "stdout",
     "output_type": "stream",
     "text": [
      "                AAPL      MSFT      GOOG      AMZN     BRK-B         V  \\\n",
      "               Close     Close     Close     Close     Close     Close   \n",
      "Date                                                                     \n",
      "2018-01-30 -0.589429 -1.256389 -1.011412  1.420625 -0.487331 -1.033317   \n",
      "2018-01-31  0.275493  2.447708  0.537085  0.909020 -0.013991  0.550385   \n",
      "2018-02-01  0.209046 -0.789391 -0.191468 -4.196737  1.338742  1.199386   \n",
      "2018-02-02 -4.339015 -2.631024 -4.778620  2.874097 -3.742235 -3.825960   \n",
      "2018-02-05 -2.498439 -4.118543 -5.045418 -2.793801 -5.891351 -3.837571   \n",
      "\n",
      "                 XOM       UNH       JNJ      NVDA  \n",
      "               Close     Close     Close     Close  \n",
      "Date                                                \n",
      "2018-01-30 -1.397572 -4.349060 -0.869989 -1.673083  \n",
      "2018-01-31  0.599221  0.054936 -2.976894  1.268953  \n",
      "2018-02-01  2.027487 -0.658838  1.324265 -2.156226  \n",
      "2018-02-02 -5.097116 -1.419946 -1.671198 -2.902285  \n",
      "2018-02-05 -5.690285 -5.114715 -5.294882 -8.487499  \n"
     ]
    }
   ],
   "source": [
    "# Find the returns for each row (except the last one) and store it in a new dataframe\n",
    "returns = df.pct_change().dropna() * 100\n",
    "\n",
    "# Print the first five rows to verify\n",
    "print(returns.head())"
   ]
  },
  {
   "attachments": {},
   "cell_type": "markdown",
   "metadata": {},
   "source": [
    "### Covariance Matrix\n",
    "\n",
    "Before we can calculate and optimize the portfolio variance, we need the covariance matrix of the portfolio. The following code will calculate it and store it in a NumPy array for future linear algebra."
   ]
  },
  {
   "cell_type": "code",
   "execution_count": 78,
   "metadata": {},
   "outputs": [
    {
     "name": "stdout",
     "output_type": "stream",
     "text": [
      "AAPL   Close    30.606543\n",
      "MSFT   Close    24.348068\n",
      "GOOG   Close    15.774502\n",
      "AMZN   Close    13.823856\n",
      "BRK-B  Close     9.938382\n",
      "V      Close    16.703721\n",
      "XOM    Close    11.277227\n",
      "UNH    Close    17.986480\n",
      "JNJ    Close     5.341281\n",
      "NVDA   Close    37.615032\n",
      "dtype: float64\n"
     ]
    }
   ],
   "source": [
    "# Create covariance matrix and covert from pandas dataframe to NumPy array\n",
    "covariance = returns.cov().to_numpy()\n",
    "\n",
    "yearly_returns = returns.mean() * 252\n",
    "\n",
    "def portfolio_returns(w):\n",
    "    return (np.sum(w * yearly_returns))\n",
    "\n",
    "# Print to verify\n",
    "print(yearly_returns)"
   ]
  },
  {
   "attachments": {},
   "cell_type": "markdown",
   "metadata": {},
   "source": [
    "### Optimization\n",
    "\n",
    "Now it is time to optimize our portfolio using this formulation:\n",
    "\n",
    "$$minimizeVariance = w \\Sigma w^T,$$\n",
    "$$s.t. \\sum_i w_i = 1$$\n",
    "\n",
    "We also will bound the weights to [0, 1] when shorting is not allowed."
   ]
  },
  {
   "cell_type": "code",
   "execution_count": 79,
   "metadata": {},
   "outputs": [],
   "source": [
    "# Objective function\n",
    "def portfolioVar(w, cov):\n",
    "    w = np.matrix(w) # Convert w and cov into matrices for easy linear algebra\n",
    "    cov = np.matrix(cov)\n",
    "    result = w * cov * w.T # Calculate the objective function\n",
    "    return result\n",
    "\n",
    "# Constraint\n",
    "constraints = (\n",
    "    {'type': 'eq', 'fun': lambda x:  np.sum(x) - 1},\n",
    "    {'type': 'eq', 'fun': lambda x: portfolio_returns(x) - expected_return}\n",
    "    ) # The sum of the array weights is equal to 1\n",
    "\n",
    "# Bounds\n",
    "bounds = [()]\n",
    "if allow_short:\n",
    "    bounds = tuple((-np.inf, np.inf) for i in tickers)\n",
    "else:\n",
    "    bounds = tuple((0, 1) for i in tickers)"
   ]
  },
  {
   "attachments": {},
   "cell_type": "markdown",
   "metadata": {},
   "source": [
    "Now that we have our objective function, constraint, and bounds, the last thing we need is an initial guess. Since it doesn't need to be a good guess, just a feasible one, we will just use equal weights for all of the stocks.\n",
    "\n",
    "The following code creates that initial guess, then solves for the optimal stock weights. Finally, it prints out the weights."
   ]
  },
  {
   "cell_type": "code",
   "execution_count": 80,
   "metadata": {},
   "outputs": [
    {
     "name": "stdout",
     "output_type": "stream",
     "text": [
      "AAPL = 23.208 %\n",
      "MSFT = 12.796 %\n",
      "GOOG = -6.166 %\n",
      "AMZN = 1.294 %\n",
      "BRK-B = 12.325 %\n",
      "V = -0.018 %\n",
      "XOM = 8.015 %\n",
      "UNH = 10.867 %\n",
      "JNJ = 39.284 %\n",
      "NVDA = -1.605 %\n",
      "Expected Portfolio Returns =  14.999999999887576\n"
     ]
    }
   ],
   "source": [
    "\n",
    "# Initial guess, equal weights\n",
    "w0 = [1 / len(tickers)] * len(tickers)\n",
    "\n",
    "result = optimize.minimize(\n",
    "    fun = portfolioVar, # Objective function\n",
    "    x0 = w0, # Initial guess\n",
    "    args = covariance, # Covariance matrix for objective function parameters\n",
    "    method = 'SLSQP', # Sequential least squares programming method\n",
    "    bounds = bounds, # Bounds\n",
    "    constraints = constraints # Constraint\n",
    ")\n",
    "\n",
    "# Express the optimal results in percentages\n",
    "result.x = result.x * 100\n",
    "\n",
    "# Print the optimal weights of each stock\n",
    "for i in range(len(tickers)):\n",
    "    print(tickers[i], '=', round(result.x[i], 3), '%')\n",
    "\n",
    "print('Expected Portfolio Returns = ', portfolio_returns(result.x / 100))"
   ]
  }
 ],
 "metadata": {
  "kernelspec": {
   "display_name": "Python 3",
   "language": "python",
   "name": "python3"
  },
  "language_info": {
   "codemirror_mode": {
    "name": "ipython",
    "version": 3
   },
   "file_extension": ".py",
   "mimetype": "text/x-python",
   "name": "python",
   "nbconvert_exporter": "python",
   "pygments_lexer": "ipython3",
   "version": "3.10.9"
  },
  "orig_nbformat": 4,
  "vscode": {
   "interpreter": {
    "hash": "b0fa6594d8f4cbf19f97940f81e996739fb7646882a419484c72d19e05852a7e"
   }
  }
 },
 "nbformat": 4,
 "nbformat_minor": 2
}
