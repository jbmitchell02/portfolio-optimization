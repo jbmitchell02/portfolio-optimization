{
 "cells": [
  {
   "attachments": {},
   "cell_type": "markdown",
   "metadata": {},
   "source": [
    "## Constructing a Minimum-Variance Portfolio\n",
    "\n",
    "First, we need to import all of the libraries that we'll be using:\n",
    "\n",
    "* NumPy\n",
    "* pandas\n",
    "* yfinance\n",
    "* optimize from scipy"
   ]
  },
  {
   "cell_type": "code",
   "execution_count": 174,
   "metadata": {},
   "outputs": [],
   "source": [
    "# Imports\n",
    "import numpy as np\n",
    "import pandas as pd\n",
    "import yfinance as yf\n",
    "from scipy import optimize"
   ]
  },
  {
   "attachments": {},
   "cell_type": "markdown",
   "metadata": {},
   "source": [
    "### Collecting and Preparing the Data"
   ]
  },
  {
   "cell_type": "code",
   "execution_count": 175,
   "metadata": {},
   "outputs": [
    {
     "name": "stdout",
     "output_type": "stream",
     "text": [
      "[*********************100%***********************]  2 of 2 completed\n",
      "                  AAPL        TSLA\n",
      "                 Close       Close\n",
      "Date                              \n",
      "2022-01-03  182.009995  399.926666\n",
      "2022-01-04  179.699997  383.196655\n",
      "2022-01-05  174.919998  362.706665\n",
      "2022-01-06  172.000000  354.899994\n",
      "2022-01-07  172.169998  342.320007\n"
     ]
    }
   ],
   "source": [
    "stocks = [\n",
    "    \"AAPL\", \"TSLA\"\n",
    "]\n",
    "\n",
    "data = yf.download(\n",
    "    tickers = stocks,\n",
    "    start = \"2022-01-01\",\n",
    "    end = \"2023-01-01\",\n",
    "    group_by = \"ticker\"\n",
    ")\n",
    "\n",
    "data = data[[(\"AAPL\", \"Close\"), (\"TSLA\", \"Close\")]]\n",
    "\n",
    "print(data.head())"
   ]
  },
  {
   "attachments": {},
   "cell_type": "markdown",
   "metadata": {},
   "source": [
    "Returns"
   ]
  },
  {
   "cell_type": "code",
   "execution_count": 176,
   "metadata": {},
   "outputs": [
    {
     "name": "stdout",
     "output_type": "stream",
     "text": [
      "                AAPL      TSLA\n",
      "               Close     Close\n",
      "Date                          \n",
      "2022-01-03       NaN       NaN\n",
      "2022-01-04 -0.012692 -0.041833\n",
      "2022-01-05 -0.026600 -0.053471\n",
      "2022-01-06 -0.016693 -0.021523\n",
      "2022-01-07  0.000988 -0.035447\n",
      "...              ...       ...\n",
      "2022-12-23 -0.002798 -0.017551\n",
      "2022-12-27 -0.013878 -0.114089\n",
      "2022-12-28 -0.030685  0.033089\n",
      "2022-12-29  0.028324  0.080827\n",
      "2022-12-30  0.002469  0.011164\n",
      "\n",
      "[251 rows x 2 columns]\n"
     ]
    }
   ],
   "source": [
    "returns = data.pct_change()\n",
    "\n",
    "print(returns)"
   ]
  },
  {
   "attachments": {},
   "cell_type": "markdown",
   "metadata": {},
   "source": [
    "Covariance Matrix"
   ]
  },
  {
   "cell_type": "code",
   "execution_count": 177,
   "metadata": {},
   "outputs": [
    {
     "name": "stdout",
     "output_type": "stream",
     "text": [
      "[[0.00050495 0.0005897 ]\n",
      " [0.0005897  0.00169377]]\n"
     ]
    }
   ],
   "source": [
    "covariance = returns.cov()\n",
    "covariance = covariance.to_numpy()\n",
    "print(covariance)"
   ]
  },
  {
   "attachments": {},
   "cell_type": "markdown",
   "metadata": {},
   "source": [
    "### Optimization\n",
    "\n",
    "Portfolio Variance Function"
   ]
  },
  {
   "cell_type": "code",
   "execution_count": null,
   "metadata": {},
   "outputs": [],
   "source": []
  },
  {
   "attachments": {},
   "cell_type": "markdown",
   "metadata": {},
   "source": [
    "Weight Constraint"
   ]
  },
  {
   "cell_type": "code",
   "execution_count": null,
   "metadata": {},
   "outputs": [],
   "source": []
  }
 ],
 "metadata": {
  "kernelspec": {
   "display_name": "Python 3",
   "language": "python",
   "name": "python3"
  },
  "language_info": {
   "codemirror_mode": {
    "name": "ipython",
    "version": 3
   },
   "file_extension": ".py",
   "mimetype": "text/x-python",
   "name": "python",
   "nbconvert_exporter": "python",
   "pygments_lexer": "ipython3",
   "version": "3.10.9"
  },
  "orig_nbformat": 4,
  "vscode": {
   "interpreter": {
    "hash": "b0fa6594d8f4cbf19f97940f81e996739fb7646882a419484c72d19e05852a7e"
   }
  }
 },
 "nbformat": 4,
 "nbformat_minor": 2
}
