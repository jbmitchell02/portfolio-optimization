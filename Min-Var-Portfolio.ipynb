{
 "cells": [
  {
   "attachments": {},
   "cell_type": "markdown",
   "metadata": {},
   "source": [
    "## Constructing a Minimum-Variance Portfolio\n",
    "\n",
    "First, we need to import all of the libraries that we'll be using:\n",
    "\n",
    "* NumPy for linear algebra\n",
    "* pandas for dataframes and variance/covariance calculations\n",
    "* yfinance for financial data\n",
    "* scipy.optimize for solving for the optimal stock weights"
   ]
  },
  {
   "cell_type": "code",
   "execution_count": 1,
   "metadata": {},
   "outputs": [],
   "source": [
    "# Imports\n",
    "import numpy as np\n",
    "import pandas as pd\n",
    "import yfinance as yf\n",
    "from scipy import optimize"
   ]
  },
  {
   "attachments": {},
   "cell_type": "markdown",
   "metadata": {},
   "source": [
    "### Collecting and Preparing the Data\n",
    "\n",
    "In this example, we'll use the top 10 largest stocks by market capitalization to build our portfolio. This can easily be changed by adding/removing entries from the tickers list. The other parameters that can be changed and tuned are:\n",
    "\n",
    "* period: how far back we will go when calculating returns, variances, and covariances.\n",
    "* interval: the frequency that returns will be calculated over (i.e. daily returns, monthly returns, etc.).\n",
    "* allow_short: whether or not short selling is allowed, we'll assume that it is free when allowed.\n",
    "\n",
    "The following code will download a dataframe with the closing price for each of the selected stocks with the given parameters. Then, it will print out the first five rows to verify that the correct data has been downloaded."
   ]
  },
  {
   "cell_type": "code",
   "execution_count": 2,
   "metadata": {},
   "outputs": [
    {
     "name": "stdout",
     "output_type": "stream",
     "text": [
      "[*********************100%***********************]  10 of 10 completed\n",
      "                  AAPL    2222.SR        MSFT        GOOG        AMZN  \\\n",
      "                 Close      Close       Close       Close       Close   \n",
      "Date                                                                    \n",
      "2022-01-18         NaN  33.454544         NaN         NaN         NaN   \n",
      "2022-01-19  166.229996  33.363636  303.329987  135.651993  156.298996   \n",
      "2022-01-20  164.509995  33.500000  301.600006  133.506500  151.667496   \n",
      "2022-01-21  162.410004        NaN  296.029999  130.091995  142.643005   \n",
      "2022-01-23         NaN  33.181816         NaN         NaN         NaN   \n",
      "\n",
      "                 BRK-B           V         TSM      TCEHY        XOM  \n",
      "                 Close       Close       Close      Close      Close  \n",
      "Date                                                                  \n",
      "2022-01-18         NaN         NaN         NaN        NaN        NaN  \n",
      "2022-01-19  314.750000  214.679993  131.009995  57.599998  73.110001  \n",
      "2022-01-20  311.010010  214.350006  128.330002  60.500000  73.269997  \n",
      "2022-01-21  305.220001  205.929993  124.529999  59.660000  72.169998  \n",
      "2022-01-23         NaN         NaN         NaN        NaN        NaN  \n"
     ]
    }
   ],
   "source": [
    "### USER PARAMETERS ###\n",
    "\n",
    "tickers = [\n",
    "    'AAPL',\n",
    "    '2222.SR',\n",
    "    'MSFT',\n",
    "    'GOOG',\n",
    "    'AMZN',\n",
    "    'BRK-B',\n",
    "    'V',\n",
    "    'TSM',\n",
    "    'TCEHY',\n",
    "    'XOM'\n",
    "]\n",
    "\n",
    "period = '1y' # Options are 1d, 5d, 1mo, 3mo, 6mo, 1y, 2y, 5y, 10y, ytd, and max\n",
    "\n",
    "interval = '1d' # Options are 1m, 2m, 5m, 15m, 30m, 60m, 90m, 1h, 1d, 5d, 1wk, 1mo, and 3mo\n",
    "\n",
    "allow_short = True\n",
    "\n",
    "#######################\n",
    "\n",
    "# Create a list of tuples for each given stock with the format ('AAPL', 'Close') so that we can request only the closing prices\n",
    "fields = []\n",
    "for i in range(len(tickers)):\n",
    "    fields.append((tickers[i], 'Close'))\n",
    "\n",
    "# Download the data with the user parameters\n",
    "data = yf.download(\n",
    "    tickers = tickers,\n",
    "    period = period,\n",
    "    interval = interval,\n",
    "    group_by = 'ticker'\n",
    ")[fields]\n",
    "\n",
    "# Print the first five rows\n",
    "print(data.head())"
   ]
  },
  {
   "attachments": {},
   "cell_type": "markdown",
   "metadata": {},
   "source": [
    "Since we're interested in the stocks' returns, not their closing prices, we will create a new dataframe that instead has the percent change for each row (the last row will be dropped since we can't calculate its percent change)."
   ]
  },
  {
   "cell_type": "code",
   "execution_count": 3,
   "metadata": {},
   "outputs": [
    {
     "name": "stdout",
     "output_type": "stream",
     "text": [
      "                AAPL   2222.SR      MSFT      GOOG      AMZN     BRK-B  \\\n",
      "               Close     Close     Close     Close     Close     Close   \n",
      "Date                                                                     \n",
      "2022-01-20 -1.034712  0.408720 -0.570330 -1.581615 -2.963231 -1.188242   \n",
      "2022-01-21 -1.276513  0.000000 -1.846819 -2.557557 -5.950181 -1.861679   \n",
      "2022-01-23  0.000000 -0.949803  0.000000  0.000000  0.000000  0.000000   \n",
      "2022-01-24 -0.486429 -0.547939  0.114852  0.215231  1.332698 -0.488169   \n",
      "2022-01-25 -1.138471  0.826448 -2.658840 -2.789324 -3.153375  1.139167   \n",
      "\n",
      "                   V       TSM     TCEHY       XOM  \n",
      "               Close     Close     Close     Close  \n",
      "Date                                                \n",
      "2022-01-20 -0.153711 -2.045640  5.034725  0.218843  \n",
      "2022-01-21 -3.928161 -2.961118 -1.388430 -1.501295  \n",
      "2022-01-23  0.000000  0.000000  0.000000  0.000000  \n",
      "2022-01-24 -1.981249  1.148318 -0.771034  0.859087  \n",
      "2022-01-25  0.074310 -2.762778  1.520266  2.939963  \n"
     ]
    }
   ],
   "source": [
    "# Find the returns for each row (except the last one) and store it in a new dataframe\n",
    "returns = data.pct_change().dropna() * 100\n",
    "\n",
    "# Print the first five rows to verify\n",
    "print(returns.head())"
   ]
  },
  {
   "attachments": {},
   "cell_type": "markdown",
   "metadata": {},
   "source": [
    "### Covariance Matrix\n",
    "\n",
    "Before we can calculate and optimize the portfolio variance, we need the covariance matrix of the portfolio. The following code will calculate it and store it in a NumPy array for future linear algebra."
   ]
  },
  {
   "cell_type": "code",
   "execution_count": 4,
   "metadata": {},
   "outputs": [
    {
     "name": "stdout",
     "output_type": "stream",
     "text": [
      "[[ 4.12351406  0.03879593  3.29913064  3.47974593  3.99424053  1.81212763\n",
      "   2.53185515  2.98937576  2.16429601  1.16159124]\n",
      " [ 0.03879593  1.65193044  0.16416702  0.03248357 -0.12920911  0.04554862\n",
      "  -0.05566208 -0.19061545  0.5147812   0.35156811]\n",
      " [ 3.29913064  0.16416702  4.02474411  3.70580828  4.26966785  1.67330161\n",
      "   2.33214066  2.6559232   1.95940384  0.91130484]\n",
      " [ 3.47974593  0.03248357  3.70580828  4.81335377  4.60322023  1.77725008\n",
      "   2.28815193  3.06079214  2.38061389  0.88781615]\n",
      " [ 3.99424053 -0.12920911  4.26966785  4.60322023  8.26843634  2.10296784\n",
      "   2.77754649  3.52813678  2.93093419  1.36153556]\n",
      " [ 1.81212763  0.04554862  1.67330161  1.77725008  2.10296784  1.62610561\n",
      "   1.44481129  1.40267777  0.62224619  1.07399141]\n",
      " [ 2.53185515 -0.05566208  2.33214066  2.28815193  2.77754649  1.44481129\n",
      "   3.11633483  2.1577444   1.97836396  0.81804077]\n",
      " [ 2.98937576 -0.19061545  2.6559232   3.06079214  3.52813678  1.40267777\n",
      "   2.1577444   4.90384524  3.32417384  1.11364756]\n",
      " [ 2.16429601  0.5147812   1.95940384  2.38061389  2.93093419  0.62224619\n",
      "   1.97836396  3.32417384 12.39870488  0.3864843 ]\n",
      " [ 1.16159124  0.35156811  0.91130484  0.88781615  1.36153556  1.07399141\n",
      "   0.81804077  1.11364756  0.3864843   3.90263597]]\n"
     ]
    }
   ],
   "source": [
    "# Create covariance matrix and covert from pandas dataframe to NumPy array\n",
    "covariance = returns.cov().to_numpy()\n",
    "\n",
    "# Print to verify\n",
    "print(covariance)"
   ]
  },
  {
   "attachments": {},
   "cell_type": "markdown",
   "metadata": {},
   "source": [
    "### Optimization\n",
    "\n",
    "Now it is time to optimize our portfolio using this formulation:\n",
    "\n",
    "$$minimizeVariance = w \\Sigma w^T,$$\n",
    "$$s.t. \\sum_i w_i = 1$$\n",
    "\n",
    "We also will bound the weights to [0, 1] when shorting is not allowed."
   ]
  },
  {
   "cell_type": "code",
   "execution_count": 5,
   "metadata": {},
   "outputs": [],
   "source": [
    "# Objective function\n",
    "def portfolioVar(w, cov):\n",
    "    w = np.matrix(w) # Convert w and cov into matrices for easy linear algebra\n",
    "    cov = np.matrix(cov)\n",
    "    result = w * cov * w.T # Calculate the objective function\n",
    "    return result\n",
    "\n",
    "# Constraint\n",
    "constraint = ({'type': 'eq', 'fun': lambda x:  np.sum(x) - 1}) # The sum of the array weights is equal to 1\n",
    "\n",
    "# Bounds\n",
    "bounds = [()]\n",
    "if allow_short:\n",
    "    bounds = tuple((-np.inf, np.inf) for i in tickers)\n",
    "else:\n",
    "    bounds = tuple((0, 1) for i in tickers)"
   ]
  },
  {
   "attachments": {},
   "cell_type": "markdown",
   "metadata": {},
   "source": [
    "Now that we have our objective function, constraint, and bounds, the last thing we need is an initial guess. Since it doesn't need to be a good guess, just a feasible one, we will just use equal weights for all of the stocks.\n",
    "\n",
    "The following code creates that initial guess, then solves for the optimal stock weights. Finally, it prints out the weights."
   ]
  },
  {
   "cell_type": "code",
   "execution_count": 6,
   "metadata": {},
   "outputs": [
    {
     "name": "stdout",
     "output_type": "stream",
     "text": [
      "AAPL = -0.11261 %\n",
      "2222.SR = 0.46779 %\n",
      "MSFT = -0.02431 %\n",
      "GOOG = 0.00222 %\n",
      "AMZN = -0.03192 %\n",
      "BRK-B = 0.46165 %\n",
      "V = 0.10619 %\n",
      "TSM = 0.08869 %\n",
      "TCEHY = 0.00947 %\n",
      "XOM = 0.03285 %\n"
     ]
    }
   ],
   "source": [
    "\n",
    "# Initial guess, equal weights\n",
    "w0 = [1 / len(tickers)] * len(tickers)\n",
    "\n",
    "result = optimize.minimize(\n",
    "    fun = portfolioVar, # Objective function\n",
    "    x0 = w0, # Initial guess\n",
    "    args = covariance, # Covariance matrix for objective function parameters\n",
    "    method = 'SLSQP', # Sequential least squares programming method\n",
    "    bounds = bounds, # Bounds\n",
    "    constraints = constraint # Constraint\n",
    ")\n",
    "\n",
    "# Round the optimal result\n",
    "result.x = result.x.round(5)\n",
    "\n",
    "# Print the optimal weights of each stock\n",
    "for i in range(len(tickers)):\n",
    "    print(tickers[i], '=', result.x[i], '%')"
   ]
  }
 ],
 "metadata": {
  "kernelspec": {
   "display_name": "Python 3",
   "language": "python",
   "name": "python3"
  },
  "language_info": {
   "codemirror_mode": {
    "name": "ipython",
    "version": 3
   },
   "file_extension": ".py",
   "mimetype": "text/x-python",
   "name": "python",
   "nbconvert_exporter": "python",
   "pygments_lexer": "ipython3",
   "version": "3.10.9"
  },
  "orig_nbformat": 4,
  "vscode": {
   "interpreter": {
    "hash": "b0fa6594d8f4cbf19f97940f81e996739fb7646882a419484c72d19e05852a7e"
   }
  }
 },
 "nbformat": 4,
 "nbformat_minor": 2
}
