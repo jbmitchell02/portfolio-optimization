{
 "cells": [
  {
   "attachments": {},
   "cell_type": "markdown",
   "metadata": {},
   "source": [
    "## Constructing a Minimum-Variance Portfolio\n",
    "\n",
    "First, we need to import all of the libraries that we'll be using:\n",
    "\n",
    "* NumPy\n",
    "* pandas\n",
    "* yfinance\n",
    "* optimize from scipy"
   ]
  },
  {
   "cell_type": "code",
   "execution_count": 12,
   "metadata": {},
   "outputs": [],
   "source": [
    "# Imports\n",
    "import numpy as np\n",
    "import pandas as pd\n",
    "import yfinance as yf\n",
    "from scipy import optimize"
   ]
  },
  {
   "attachments": {},
   "cell_type": "markdown",
   "metadata": {},
   "source": [
    "### Collecting and Preparing the Data"
   ]
  },
  {
   "cell_type": "code",
   "execution_count": 13,
   "metadata": {},
   "outputs": [
    {
     "name": "stdout",
     "output_type": "stream",
     "text": [
      "[*********************100%***********************]  2 of 2 completed\n",
      "                  AAPL        TSLA\n",
      "                 Close       Close\n",
      "Date                              \n",
      "2022-01-18  169.800003  343.503326\n",
      "2022-01-19  166.229996  331.883331\n",
      "2022-01-20  164.509995  332.089996\n",
      "2022-01-21  162.410004  314.633331\n",
      "2022-01-24  161.619995  310.000000\n"
     ]
    }
   ],
   "source": [
    "tickers = [\n",
    "    \"AAPL\",\n",
    "    \"TSLA\"\n",
    "]\n",
    "\n",
    "period = '1y'\n",
    "\n",
    "interval = '1d'\n",
    "\n",
    "data = yf.download(\n",
    "    tickers = tickers,\n",
    "    period = period,\n",
    "    interval = interval,\n",
    "    group_by = \"ticker\"\n",
    ")\n",
    "\n",
    "data = data[[(\"AAPL\", \"Close\"), (\"TSLA\", \"Close\")]]\n",
    "\n",
    "print(data.head())"
   ]
  },
  {
   "attachments": {},
   "cell_type": "markdown",
   "metadata": {},
   "source": [
    "Returns"
   ]
  },
  {
   "cell_type": "code",
   "execution_count": 14,
   "metadata": {},
   "outputs": [
    {
     "name": "stdout",
     "output_type": "stream",
     "text": [
      "                AAPL      TSLA\n",
      "               Close     Close\n",
      "Date                          \n",
      "2022-01-19 -0.021025 -0.033828\n",
      "2022-01-20 -0.010347  0.000623\n",
      "2022-01-21 -0.012765 -0.052566\n",
      "2022-01-24 -0.004864 -0.014726\n",
      "2022-01-25 -0.011385 -0.012473\n"
     ]
    }
   ],
   "source": [
    "returns = data.pct_change().dropna()\n",
    "\n",
    "\n",
    "print(returns.head())"
   ]
  },
  {
   "attachments": {},
   "cell_type": "markdown",
   "metadata": {},
   "source": [
    "Covariance Matrix"
   ]
  },
  {
   "cell_type": "code",
   "execution_count": 18,
   "metadata": {},
   "outputs": [
    {
     "name": "stdout",
     "output_type": "stream",
     "text": [
      "[[0.00050953 0.0006044 ]\n",
      " [0.0006044  0.0017586 ]]\n"
     ]
    }
   ],
   "source": [
    "covariance = returns.cov().to_numpy()\n",
    "\n",
    "print(covariance)"
   ]
  },
  {
   "attachments": {},
   "cell_type": "markdown",
   "metadata": {},
   "source": [
    "### Optimization\n",
    "\n",
    "Portfolio Variance Function"
   ]
  },
  {
   "cell_type": "code",
   "execution_count": 21,
   "metadata": {},
   "outputs": [
    {
     "name": "stdout",
     "output_type": "stream",
     "text": [
      "0.0008692351076191015\n"
     ]
    }
   ],
   "source": [
    "def portfolioVar(w, cov):\n",
    "    result = w @ cov @ w.T\n",
    "    return result"
   ]
  },
  {
   "attachments": {},
   "cell_type": "markdown",
   "metadata": {},
   "source": [
    "Weight Constraint and Minimizing"
   ]
  },
  {
   "cell_type": "code",
   "execution_count": 24,
   "metadata": {},
   "outputs": [
    {
     "name": "stdout",
     "output_type": "stream",
     "text": [
      "[0.5 0.5]\n"
     ]
    }
   ],
   "source": []
  }
 ],
 "metadata": {
  "kernelspec": {
   "display_name": "Python 3",
   "language": "python",
   "name": "python3"
  },
  "language_info": {
   "codemirror_mode": {
    "name": "ipython",
    "version": 3
   },
   "file_extension": ".py",
   "mimetype": "text/x-python",
   "name": "python",
   "nbconvert_exporter": "python",
   "pygments_lexer": "ipython3",
   "version": "3.10.9"
  },
  "orig_nbformat": 4,
  "vscode": {
   "interpreter": {
    "hash": "b0fa6594d8f4cbf19f97940f81e996739fb7646882a419484c72d19e05852a7e"
   }
  }
 },
 "nbformat": 4,
 "nbformat_minor": 2
}
