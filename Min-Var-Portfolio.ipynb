{
 "cells": [
  {
   "attachments": {},
   "cell_type": "markdown",
   "metadata": {},
   "source": [
    "## Constructing a Minimum-Variance Portfolio\n",
    "\n",
    "First, we need to import all of the libraries that we'll be using:\n",
    "\n",
    "* NumPy for linear algebra\n",
    "* pandas for dataframes and variance/covariance calculations\n",
    "* yfinance for financial data\n",
    "* scipy.optimize for solving for the optimal stock weights"
   ]
  },
  {
   "cell_type": "code",
   "execution_count": 1,
   "metadata": {},
   "outputs": [],
   "source": [
    "# Imports\n",
    "import numpy as np\n",
    "import pandas as pd\n",
    "import yfinance as yf\n",
    "from scipy import optimize"
   ]
  },
  {
   "attachments": {},
   "cell_type": "markdown",
   "metadata": {},
   "source": [
    "### Collecting and Preparing the Data\n",
    "\n",
    "In this example, we'll use the top 10 largest US stocks by market capitalization to build our portfolio. This can easily be changed by adding/removing entries from the tickers list. The other parameters that can be changed and tuned are:\n",
    "\n",
    "* period: how far back we will go when calculating returns, variances, and covariances.\n",
    "* interval: the frequency that returns will be calculated over (i.e. daily returns, monthly returns, etc.).\n",
    "* allow_short: whether or not short selling is allowed, we'll assume that it is free when allowed.\n",
    "\n",
    "The following code will download a dataframe with the closing price for each of the selected stocks with the given parameters. Then, it will print out the first five rows to verify that the correct data has been downloaded."
   ]
  },
  {
   "cell_type": "code",
   "execution_count": 2,
   "metadata": {},
   "outputs": [
    {
     "name": "stdout",
     "output_type": "stream",
     "text": [
      "[*********************100%***********************]  10 of 10 completed\n",
      "                  AAPL        MSFT        GOOG        AMZN       BRK-B  \\\n",
      "                 Close       Close       Close       Close       Close   \n",
      "Date                                                                     \n",
      "2022-01-19  166.229996  303.329987  135.651993  156.298996  314.750000   \n",
      "2022-01-20  164.509995  301.600006  133.506500  151.667496  311.010010   \n",
      "2022-01-21  162.410004  296.029999  130.091995  142.643005  305.220001   \n",
      "2022-01-24  161.619995  296.369995  130.371994  144.544006  303.730011   \n",
      "2022-01-25  159.779999  288.489990  126.735497  139.985992  307.190002   \n",
      "\n",
      "                     V        XOM         UNH         JNJ        NVDA  \n",
      "                 Close      Close       Close       Close       Close  \n",
      "Date                                                                   \n",
      "2022-01-19  214.679993  73.110001  462.519989  166.580002  250.669998  \n",
      "2022-01-20  214.350006  73.269997  463.000000  165.250000  241.500000  \n",
      "2022-01-21  205.929993  72.169998  461.170013  164.869995  233.740005  \n",
      "2022-01-24  201.850006  72.790001  462.269989  162.970001  233.720001  \n",
      "2022-01-25  202.000000  74.930000  456.839996  167.630005  223.240005  \n"
     ]
    }
   ],
   "source": [
    "### USER PARAMETERS ###\n",
    "\n",
    "tickers = [\n",
    "    'AAPL',\n",
    "    'MSFT',\n",
    "    'GOOG',\n",
    "    'AMZN',\n",
    "    'BRK-B',\n",
    "    'V',\n",
    "    'XOM',\n",
    "    'UNH',\n",
    "    'JNJ',\n",
    "    'NVDA',\n",
    "]\n",
    "\n",
    "period = '1y' # Options are 1d, 5d, 1mo, 3mo, 6mo, 1y, 2y, 5y, 10y, ytd, and max\n",
    "\n",
    "interval = '1d' # Options are 1m, 2m, 5m, 15m, 30m, 60m, 90m, 1h, 1d, 5d, 1wk, 1mo, and 3mo\n",
    "\n",
    "allow_short = True\n",
    "\n",
    "#######################\n",
    "\n",
    "# Create a list of tuples for each given stock with the format ('AAPL', 'Close') so that we can request only the closing prices\n",
    "fields = []\n",
    "for i in range(len(tickers)):\n",
    "    fields.append((tickers[i], 'Close'))\n",
    "\n",
    "# Download the data with the user parameters\n",
    "data = yf.download(\n",
    "    tickers = tickers,\n",
    "    period = period,\n",
    "    interval = interval,\n",
    "    group_by = 'ticker'\n",
    ")[fields]\n",
    "\n",
    "# Print the first five rows\n",
    "print(data.head())"
   ]
  },
  {
   "attachments": {},
   "cell_type": "markdown",
   "metadata": {},
   "source": [
    "Since we're interested in the stocks' returns, not their closing prices, we will create a new dataframe that instead has the percent change for each row (the last row will be dropped since we can't calculate its percent change)."
   ]
  },
  {
   "cell_type": "code",
   "execution_count": 3,
   "metadata": {},
   "outputs": [
    {
     "name": "stdout",
     "output_type": "stream",
     "text": [
      "                AAPL      MSFT      GOOG      AMZN     BRK-B         V  \\\n",
      "               Close     Close     Close     Close     Close     Close   \n",
      "Date                                                                     \n",
      "2022-01-20 -1.034712 -0.570330 -1.581615 -2.963231 -1.188242 -0.153711   \n",
      "2022-01-21 -1.276513 -1.846819 -2.557557 -5.950181 -1.861679 -3.928161   \n",
      "2022-01-24 -0.486429  0.114852  0.215231  1.332698 -0.488169 -1.981249   \n",
      "2022-01-25 -1.138471 -2.658840 -2.789324 -3.153375  1.139167  0.074310   \n",
      "2022-01-26 -0.056325  2.849319  1.976170 -0.795433  0.673852  1.915839   \n",
      "\n",
      "                 XOM       UNH       JNJ      NVDA  \n",
      "               Close     Close     Close     Close  \n",
      "Date                                                \n",
      "2022-01-20  0.218843  0.103782 -0.798416 -3.658195  \n",
      "2022-01-21 -1.501295 -0.395245 -0.229958 -3.213248  \n",
      "2022-01-24  0.859087  0.238518 -1.152419 -0.008558  \n",
      "2022-01-25  2.939963 -1.174637  2.859424 -4.483996  \n",
      "2022-01-26 -1.014283  0.348042  0.447414  2.006807  \n"
     ]
    }
   ],
   "source": [
    "# Find the returns for each row (except the last one) and store it in a new dataframe\n",
    "returns = data.pct_change().dropna() * 100\n",
    "\n",
    "# Print the first five rows to verify\n",
    "print(returns.head())"
   ]
  },
  {
   "attachments": {},
   "cell_type": "markdown",
   "metadata": {},
   "source": [
    "### Covariance Matrix\n",
    "\n",
    "Before we can calculate and optimize the portfolio variance, we need the covariance matrix of the portfolio. The following code will calculate it and store it in a NumPy array for future linear algebra."
   ]
  },
  {
   "cell_type": "code",
   "execution_count": 4,
   "metadata": {},
   "outputs": [
    {
     "name": "stdout",
     "output_type": "stream",
     "text": [
      "[[ 5.09994322  4.08001946  4.30287533  4.93906319  2.24152603  3.13207822\n",
      "   1.4389114   1.65839801  0.90711647  6.84604703]\n",
      " [ 4.08001946  4.97729435  4.58205068  5.27923042  2.0698116   2.88514128\n",
      "   1.12999834  1.6034463   0.77201349  6.87473508]\n",
      " [ 4.30287533  4.58205068  5.95079833  5.69039874  2.19840703  2.8309998\n",
      "   1.10278706  1.45627268  0.75248208  7.35408776]\n",
      " [ 4.93906319  5.27923042  5.69039874 10.22353071  2.60130932  3.43645993\n",
      "   1.6894665   1.53717236  0.80132641  8.90690433]\n",
      " [ 2.24152603  2.0698116   2.19840703  2.60130932  2.01140718  1.78714701\n",
      "   1.32840908  1.14955998  0.78742188  3.34340322]\n",
      " [ 3.13207822  2.88514128  2.8309998   3.43645993  1.78714701  3.85459487\n",
      "   1.01086043  1.23674981  0.71136204  4.8838375 ]\n",
      " [ 1.4389114   1.12999834  1.10278706  1.6894665   1.32840908  1.01086043\n",
      "   4.82044765  0.8850761   0.25158663  2.00515245]\n",
      " [ 1.65839801  1.6034463   1.45627268  1.53717236  1.14955998  1.23674981\n",
      "   0.8850761   2.35102423  0.94799552  2.09878012]\n",
      " [ 0.90711647  0.77201349  0.75248208  0.80132641  0.78742188  0.71136204\n",
      "   0.25158663  0.94799552  1.2382172   0.78174341]\n",
      " [ 6.84604703  6.87473508  7.35408776  8.90690433  3.34340322  4.8838375\n",
      "   2.00515245  2.09878012  0.78174341 15.93767911]]\n"
     ]
    }
   ],
   "source": [
    "# Create covariance matrix and covert from pandas dataframe to NumPy array\n",
    "covariance = returns.cov().to_numpy()\n",
    "\n",
    "# Print to verify\n",
    "print(covariance)"
   ]
  },
  {
   "attachments": {},
   "cell_type": "markdown",
   "metadata": {},
   "source": [
    "### Optimization\n",
    "\n",
    "Now it is time to optimize our portfolio using this formulation:\n",
    "\n",
    "$$minimizeVariance = w \\Sigma w^T,$$\n",
    "$$s.t. \\sum_i w_i = 1$$\n",
    "\n",
    "We also will bound the weights to [0, 1] when shorting is not allowed."
   ]
  },
  {
   "cell_type": "code",
   "execution_count": 5,
   "metadata": {},
   "outputs": [],
   "source": [
    "# Objective function\n",
    "def portfolioVar(w, cov):\n",
    "    w = np.matrix(w) # Convert w and cov into matrices for easy linear algebra\n",
    "    cov = np.matrix(cov)\n",
    "    result = w * cov * w.T # Calculate the objective function\n",
    "    return result\n",
    "\n",
    "# Constraint\n",
    "constraint = ({'type': 'eq', 'fun': lambda x:  np.sum(x) - 1}) # The sum of the array weights is equal to 1\n",
    "\n",
    "# Bounds\n",
    "bounds = [()]\n",
    "if allow_short:\n",
    "    bounds = tuple((-np.inf, np.inf) for i in tickers)\n",
    "else:\n",
    "    bounds = tuple((0, 1) for i in tickers)"
   ]
  },
  {
   "attachments": {},
   "cell_type": "markdown",
   "metadata": {},
   "source": [
    "Now that we have our objective function, constraint, and bounds, the last thing we need is an initial guess. Since it doesn't need to be a good guess, just a feasible one, we will just use equal weights for all of the stocks.\n",
    "\n",
    "The following code creates that initial guess, then solves for the optimal stock weights. Finally, it prints out the weights."
   ]
  },
  {
   "cell_type": "code",
   "execution_count": 6,
   "metadata": {},
   "outputs": [
    {
     "name": "stdout",
     "output_type": "stream",
     "text": [
      "AAPL = -0.11603 %\n",
      "MSFT = 0.05872 %\n",
      "GOOG = 0.06806 %\n",
      "AMZN = -0.02426 %\n",
      "BRK-B = 0.12957 %\n",
      "V = 0.10708 %\n",
      "XOM = 0.13723 %\n",
      "UNH = 0.04627 %\n",
      "JNJ = 0.63966 %\n",
      "NVDA = -0.0463 %\n"
     ]
    }
   ],
   "source": [
    "\n",
    "# Initial guess, equal weights\n",
    "w0 = [1 / len(tickers)] * len(tickers)\n",
    "\n",
    "result = optimize.minimize(\n",
    "    fun = portfolioVar, # Objective function\n",
    "    x0 = w0, # Initial guess\n",
    "    args = covariance, # Covariance matrix for objective function parameters\n",
    "    method = 'SLSQP', # Sequential least squares programming method\n",
    "    bounds = bounds, # Bounds\n",
    "    constraints = constraint # Constraint\n",
    ")\n",
    "\n",
    "# Round the optimal result\n",
    "result.x = result.x.round(5)\n",
    "\n",
    "# Print the optimal weights of each stock\n",
    "for i in range(len(tickers)):\n",
    "    print(tickers[i], '=', result.x[i], '%')"
   ]
  }
 ],
 "metadata": {
  "kernelspec": {
   "display_name": "Python 3",
   "language": "python",
   "name": "python3"
  },
  "language_info": {
   "codemirror_mode": {
    "name": "ipython",
    "version": 3
   },
   "file_extension": ".py",
   "mimetype": "text/x-python",
   "name": "python",
   "nbconvert_exporter": "python",
   "pygments_lexer": "ipython3",
   "version": "3.10.9"
  },
  "orig_nbformat": 4,
  "vscode": {
   "interpreter": {
    "hash": "b0fa6594d8f4cbf19f97940f81e996739fb7646882a419484c72d19e05852a7e"
   }
  }
 },
 "nbformat": 4,
 "nbformat_minor": 2
}
