{
 "cells": [
  {
   "attachments": {},
   "cell_type": "markdown",
   "metadata": {},
   "source": [
    "## Constructing a Minimum-Variance Portfolio\n",
    "\n",
    "First, we need to import all of the libraries that we'll be using:\n",
    "\n",
    "* NumPy\n",
    "* pandas\n",
    "* yfinance\n",
    "* optimize from scipy"
   ]
  },
  {
   "cell_type": "code",
   "execution_count": null,
   "metadata": {},
   "outputs": [],
   "source": [
    "# Imports\n",
    "import numpy as np\n",
    "import pandas as pd\n",
    "import yfinance as yf\n",
    "from scipy import optimize"
   ]
  },
  {
   "attachments": {},
   "cell_type": "markdown",
   "metadata": {},
   "source": [
    "### Collecting and Preparing the Data"
   ]
  },
  {
   "cell_type": "code",
   "execution_count": null,
   "metadata": {},
   "outputs": [],
   "source": [
    "tickers = [\n",
    "    'AAPL',\n",
    "    'MSFT',\n",
    "    'GOOG',\n",
    "    'AMZN'\n",
    "]\n",
    "\n",
    "period = '1y'\n",
    "\n",
    "interval = '1d'\n",
    "\n",
    "fields = []\n",
    "for i in range(len(tickers)):\n",
    "    fields.append((tickers[i], 'Close'))\n",
    "\n",
    "data = yf.download(\n",
    "    tickers = tickers,\n",
    "    period = period,\n",
    "    interval = interval,\n",
    "    group_by = 'ticker'\n",
    ")[fields]\n",
    "\n",
    "print(data.head())"
   ]
  },
  {
   "attachments": {},
   "cell_type": "markdown",
   "metadata": {},
   "source": [
    "Returns"
   ]
  },
  {
   "cell_type": "code",
   "execution_count": null,
   "metadata": {},
   "outputs": [],
   "source": [
    "returns = data.pct_change().dropna() * 100\n",
    "\n",
    "\n",
    "print(returns.head())"
   ]
  },
  {
   "attachments": {},
   "cell_type": "markdown",
   "metadata": {},
   "source": [
    "Covariance Matrix"
   ]
  },
  {
   "cell_type": "code",
   "execution_count": null,
   "metadata": {},
   "outputs": [],
   "source": [
    "covariance = returns.cov().to_numpy()\n",
    "\n",
    "print(covariance)"
   ]
  },
  {
   "attachments": {},
   "cell_type": "markdown",
   "metadata": {},
   "source": [
    "### Optimization\n",
    "\n",
    "Objective Function and constraint"
   ]
  },
  {
   "cell_type": "code",
   "execution_count": null,
   "metadata": {},
   "outputs": [],
   "source": [
    "def portfolioVar(w, cov):\n",
    "    w = np.matrix(w)\n",
    "    cov = np.matrix(cov)\n",
    "    result = w * cov * w.T\n",
    "    return result\n",
    "\n",
    "constraint = ({'type': 'eq', 'fun': lambda x:  np.sum(x) - 1})\n",
    "\n",
    "bounds = tuple((-1, 1) for i in tickers)"
   ]
  },
  {
   "attachments": {},
   "cell_type": "markdown",
   "metadata": {},
   "source": [
    "Initial guess, bounds, and optimal portfolio"
   ]
  },
  {
   "cell_type": "code",
   "execution_count": null,
   "metadata": {},
   "outputs": [],
   "source": [
    "\n",
    "w0 = [1 / len(tickers)] * len(tickers)\n",
    "\n",
    "\n",
    "result = optimize.minimize(\n",
    "    fun = portfolioVar,\n",
    "    x0 = w0,\n",
    "    args = covariance,\n",
    "    method = 'SLSQP',\n",
    "    bounds = bounds,\n",
    "    constraints = constraint\n",
    ")\n",
    "\n",
    "result.x = result.x.round(3)\n",
    "\n",
    "for i in range(len(tickers)):\n",
    "    print(tickers[i], '=', result.x[i])"
   ]
  }
 ],
 "metadata": {
  "kernelspec": {
   "display_name": "Python 3",
   "language": "python",
   "name": "python3"
  },
  "language_info": {
   "codemirror_mode": {
    "name": "ipython",
    "version": 3
   },
   "file_extension": ".py",
   "mimetype": "text/x-python",
   "name": "python",
   "nbconvert_exporter": "python",
   "pygments_lexer": "ipython3",
   "version": "3.10.9"
  },
  "orig_nbformat": 4,
  "vscode": {
   "interpreter": {
    "hash": "b0fa6594d8f4cbf19f97940f81e996739fb7646882a419484c72d19e05852a7e"
   }
  }
 },
 "nbformat": 4,
 "nbformat_minor": 2
}
