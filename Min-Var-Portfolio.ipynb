{
 "cells": [
  {
   "attachments": {},
   "cell_type": "markdown",
   "metadata": {},
   "source": [
    "## Constructing a Minimum-Variance Portfolio\n",
    "\n",
    "First, we need to import all of the libraries that we'll be using:\n",
    "\n",
    "* NumPy\n",
    "* pandas\n",
    "* yfinance\n",
    "* optimize from scipy"
   ]
  },
  {
   "cell_type": "code",
   "execution_count": 278,
   "metadata": {},
   "outputs": [],
   "source": [
    "# Imports\n",
    "import numpy as np\n",
    "import pandas as pd\n",
    "import yfinance as yf\n",
    "from scipy import optimize"
   ]
  },
  {
   "attachments": {},
   "cell_type": "markdown",
   "metadata": {},
   "source": [
    "### Collecting and Preparing the Data"
   ]
  },
  {
   "cell_type": "code",
   "execution_count": 279,
   "metadata": {},
   "outputs": [
    {
     "name": "stdout",
     "output_type": "stream",
     "text": [
      "[*********************100%***********************]  4 of 4 completed\n",
      "                  AAPL        MSFT        GOOG        AMZN\n",
      "                 Close       Close       Close       Close\n",
      "Date                                                      \n",
      "2022-01-19  166.229996  303.329987  135.651993  156.298996\n",
      "2022-01-20  164.509995  301.600006  133.506500  151.667496\n",
      "2022-01-21  162.410004  296.029999  130.091995  142.643005\n",
      "2022-01-24  161.619995  296.369995  130.371994  144.544006\n",
      "2022-01-25  159.779999  288.489990  126.735497  139.985992\n"
     ]
    }
   ],
   "source": [
    "tickers = [\n",
    "    'AAPL',\n",
    "    'MSFT',\n",
    "    'GOOG',\n",
    "    'AMZN'\n",
    "]\n",
    "\n",
    "period = '1y'\n",
    "\n",
    "interval = '1d'\n",
    "\n",
    "fields = []\n",
    "for i in range(len(tickers)):\n",
    "    fields.append((tickers[i], 'Close'))\n",
    "\n",
    "data = yf.download(\n",
    "    tickers = tickers,\n",
    "    period = period,\n",
    "    interval = interval,\n",
    "    group_by = 'ticker'\n",
    ")[fields]\n",
    "\n",
    "print(data.head())"
   ]
  },
  {
   "attachments": {},
   "cell_type": "markdown",
   "metadata": {},
   "source": [
    "Returns"
   ]
  },
  {
   "cell_type": "code",
   "execution_count": 280,
   "metadata": {},
   "outputs": [
    {
     "name": "stdout",
     "output_type": "stream",
     "text": [
      "                AAPL      MSFT      GOOG      AMZN\n",
      "               Close     Close     Close     Close\n",
      "Date                                              \n",
      "2022-01-20 -1.034712 -0.570330 -1.581615 -2.963231\n",
      "2022-01-21 -1.276513 -1.846819 -2.557557 -5.950181\n",
      "2022-01-24 -0.486429  0.114852  0.215231  1.332698\n",
      "2022-01-25 -1.138471 -2.658840 -2.789324 -3.153375\n",
      "2022-01-26 -0.056325  2.849319  1.976170 -0.795433\n"
     ]
    }
   ],
   "source": [
    "returns = data.pct_change().dropna() * 100\n",
    "\n",
    "\n",
    "print(returns.head())"
   ]
  },
  {
   "attachments": {},
   "cell_type": "markdown",
   "metadata": {},
   "source": [
    "Covariance Matrix"
   ]
  },
  {
   "cell_type": "code",
   "execution_count": 281,
   "metadata": {},
   "outputs": [
    {
     "name": "stdout",
     "output_type": "stream",
     "text": [
      "[[ 5.09994322  4.08001946  4.30287533  4.93906319]\n",
      " [ 4.08001946  4.97729435  4.58205068  5.27923042]\n",
      " [ 4.30287533  4.58205068  5.95079833  5.69039874]\n",
      " [ 4.93906319  5.27923042  5.69039874 10.22353071]]\n"
     ]
    }
   ],
   "source": [
    "covariance = returns.cov().to_numpy()\n",
    "\n",
    "print(covariance)"
   ]
  },
  {
   "attachments": {},
   "cell_type": "markdown",
   "metadata": {},
   "source": [
    "### Optimization\n",
    "\n",
    "Objective Function and constraint"
   ]
  },
  {
   "cell_type": "code",
   "execution_count": 282,
   "metadata": {},
   "outputs": [
    {
     "name": "stdout",
     "output_type": "stream",
     "text": [
      "((-1, 1), (-1, 1), (-1, 1), (-1, 1))\n"
     ]
    }
   ],
   "source": [
    "def portfolioVar(w, cov):\n",
    "    w = np.matrix(w)\n",
    "    cov = np.matrix(cov)\n",
    "    result = w * cov * w.T\n",
    "    return result\n",
    "\n",
    "constraint = ({'type': 'eq', 'fun': lambda x:  np.sum(x) - 1})\n",
    "\n",
    "bounds = tuple((-1, 1) for i in tickers)"
   ]
  },
  {
   "attachments": {},
   "cell_type": "markdown",
   "metadata": {},
   "source": [
    "Initial guess, bounds, and optimal portfolio"
   ]
  },
  {
   "cell_type": "code",
   "execution_count": 283,
   "metadata": {},
   "outputs": [
    {
     "name": "stdout",
     "output_type": "stream",
     "text": [
      "AAPL = 0.469\n",
      "MSFT = 0.549\n",
      "GOOG = 0.125\n",
      "AMZN = -0.143\n"
     ]
    }
   ],
   "source": [
    "\n",
    "w0 = [1 / len(tickers)] * len(tickers)\n",
    "\n",
    "\n",
    "result = optimize.minimize(\n",
    "    fun = portfolioVar,\n",
    "    x0 = w0,\n",
    "    args = covariance,\n",
    "    method = 'SLSQP',\n",
    "    bounds = bounds,\n",
    "    constraints = constraint\n",
    ")\n",
    "\n",
    "result.x = result.x.round(3)\n",
    "\n",
    "for i in range(len(tickers)):\n",
    "    print(tickers[i], '=', result.x[i])"
   ]
  }
 ],
 "metadata": {
  "kernelspec": {
   "display_name": "Python 3",
   "language": "python",
   "name": "python3"
  },
  "language_info": {
   "codemirror_mode": {
    "name": "ipython",
    "version": 3
   },
   "file_extension": ".py",
   "mimetype": "text/x-python",
   "name": "python",
   "nbconvert_exporter": "python",
   "pygments_lexer": "ipython3",
   "version": "3.10.9"
  },
  "orig_nbformat": 4,
  "vscode": {
   "interpreter": {
    "hash": "b0fa6594d8f4cbf19f97940f81e996739fb7646882a419484c72d19e05852a7e"
   }
  }
 },
 "nbformat": 4,
 "nbformat_minor": 2
}
